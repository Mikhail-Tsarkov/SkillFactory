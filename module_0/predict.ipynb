{
 "cells": [
  {
   "cell_type": "markdown",
   "id": "f2d862a6",
   "metadata": {},
   "source": [
    "# Угадать загаданное компьютером число за минимальное число попыток"
   ]
  },
  {
   "cell_type": "markdown",
   "id": "6caaf3cc",
   "metadata": {},
   "source": [
    "Компьютер загадывает число от **1** до **100**.    \n",
    "Нужно написать функцию, которая угадывает число за минимальное число попыток.   \n",
    "Алгоритм прост, всегда берём число в середине предполагаемого диапазона.   \n",
    "Первое число будет **50**.  *(100/2)*.   \n",
    "Если загаданное число больше **50**, то прибавляем к нему **25** *(50/2)*.   \n",
    "Если меньше, то вычитаем **25** *(50/2)*.  \n",
    "\n",
    "На следующем шаге нужно взять половину от **25**   \n",
    "Получается два варианта: можно округлить или в меньшую или в большую сторону.  \n",
    "\n",
    "Поэтому я написал две функции, реализующие оба варианта    \n",
    "и можно будет их сравнить.   \n",
    "\n",
    "В каждой из написанной функции есть необязательный параметр **debug**,<br>\n",
    "активировав который, можно увидеть ход выполнения функции.   \n",
    "Этим мы займёмся в конце."
   ]
  },
  {
   "cell_type": "code",
   "execution_count": 1,
   "id": "2fa9b498",
   "metadata": {},
   "outputs": [],
   "source": [
    "import numpy as np\n",
    "import math    "
   ]
  },
  {
   "cell_type": "markdown",
   "id": "006e17b3",
   "metadata": {},
   "source": [
    "Функция <code>game_core_floor()</code> округляет изменение в меньшую сторону   \n",
    "Что бы изменение при выборе нового числа не стало равным нулю   \n",
    "и функция не застряла в бесконечном цикле,   \n",
    "используется функция <code>max(1,новое изменение)</code> "
   ]
  },
  {
   "cell_type": "code",
   "execution_count": null,
   "id": "52e7d92f",
   "metadata": {},
   "outputs": [],
   "source": [
    "def game_core_floor(number, debug=False):\n",
    "    '''Функция принимает загаданное число и возвращает число попыток.\n",
    "       Берём середину предполагаемого диапазона, округляя в меньшую сторону'''\n",
    "    count = 1\n",
    "    predict = 50\n",
    "    change = 25\n",
    "    while number != predict:\n",
    "        count+=1\n",
    "        if number > predict: \n",
    "            predict += change\n",
    "            change = max(1,change//2)\n",
    "            if(debug): print(f\"попытка № {count} предсказание {predict} следующее изменение {change}\")\n",
    "        elif number < predict: \n",
    "            predict -= change\n",
    "            change = max(1,change//2)            \n",
    "            if(debug): print(f\"попытка № {count} предсказание {predict} следующее изменение {change}\")\n",
    "    return(count) # выход из цикла, если угадали"
   ]
  },
  {
   "cell_type": "markdown",
   "id": "f26076bc",
   "metadata": {},
   "source": [
    "Функция <code>game_core_ceil()</code> округляет изменение в большую сторону "
   ]
  },
  {
   "cell_type": "code",
   "execution_count": null,
   "id": "fbd6138b",
   "metadata": {},
   "outputs": [],
   "source": [
    "def game_core_ceil(number, debug=False):\n",
    "    '''Функция принимает загаданное число и возвращает число попыток.\n",
    "       Берём середину предполагаемого диапазона, округляя в большую сторону'''    \n",
    "    count = 1\n",
    "    predict = 50\n",
    "    change = 25\n",
    "    while number != predict:\n",
    "        count+=1\n",
    "        if number > predict: \n",
    "            predict += change\n",
    "            change = math.ceil(change/2)\n",
    "            if(debug): print(f\"попытка № {count} предсказание {predict} следующее изменение {change}\")\n",
    "        elif number < predict: \n",
    "            predict -= change\n",
    "            change = math.ceil(change/2)           \n",
    "            if(debug): print(f\"попытка № {count} предсказание {predict} следующее изменение {change}\")\n",
    "    return(count) # выход из цикла, если угадали"
   ]
  },
  {
   "cell_type": "markdown",
   "id": "f26811da",
   "metadata": {},
   "source": [
    "Тестовая функция, запускающая алгоритм **1000** раз,    \n",
    "что бы найти среднее число попыток, за которое алгоритм угадывает число"
   ]
  },
  {
   "cell_type": "code",
   "execution_count": null,
   "id": "c15aa520",
   "metadata": {},
   "outputs": [],
   "source": [
    "def score_game(game_core):\n",
    "    '''Запускаем игру 1000 раз, чтобы узнать, как быстро игра угадывает число'''\n",
    "    count_ls = []\n",
    "    np.random.seed(10)  # фиксируем RANDOM SEED, чтобы ваш эксперимент был воспроизводим!\n",
    "    random_array = np.random.randint(1,101, size=(1000))\n",
    "    for number in random_array:\n",
    "        count_ls.append(game_core(number))\n",
    "    score = round(np.mean(count_ls))\n",
    "    print(f\"Ваш алгоритм угадывает число в среднем за {score} попыток\")\n",
    "    return(score)"
   ]
  },
  {
   "cell_type": "markdown",
   "id": "29289ba3",
   "metadata": {},
   "source": [
    "## Тестируем алгоритмы\n",
    "Проводим тест, какой из алгоритмов находит число за меньшее число попыток"
   ]
  },
  {
   "cell_type": "code",
   "execution_count": null,
   "id": "6d0c5eed",
   "metadata": {},
   "outputs": [],
   "source": [
    "print(\"game_core_floor\")\n",
    "score_game(game_core_floor)\n",
    "print()\n",
    "print(\"game_core_ceil\")\n",
    "score_game(game_core_ceil)"
   ]
  },
  {
   "cell_type": "markdown",
   "id": "9c41b07b",
   "metadata": {},
   "source": [
    "Оказалось, что алгоритмы находят число в среднем за **6** попыток,    \n",
    "но для разных загаданных чисел, они делают разное число попыток.   \n",
    "Это можно проверить в ячейках ниже."
   ]
  },
  {
   "cell_type": "markdown",
   "id": "38f7b976",
   "metadata": {},
   "source": [
    "### Отладка алгоритмов\n",
    "Ниже ячейки для отладки функций и просмотра хода их работы"
   ]
  },
  {
   "cell_type": "code",
   "execution_count": null,
   "id": "415a8de7",
   "metadata": {},
   "outputs": [],
   "source": [
    "num = 1 # первое загаданное число ( от 1 до 100)\n",
    "if(num < 1 or num > 100): num = 1"
   ]
  },
  {
   "cell_type": "markdown",
   "id": "ccffd24f",
   "metadata": {},
   "source": [
    "Следующую ячейку можно запускать много раз подряд,     \n",
    "загаданное число каждый раз будет увеличиваться на **1**"
   ]
  },
  {
   "cell_type": "code",
   "execution_count": null,
   "id": "0f9c96e1",
   "metadata": {},
   "outputs": [],
   "source": [
    "print(f\"Загаданное число = { num }\")\n",
    "print(\"версия 'game_core_floor'  =============\")\n",
    "result1=game_core_floor(num,True)\n",
    "print()\n",
    "print(\"версия 'game_core_ceil'  ============\")\n",
    "result2=game_core_ceil(num,True)\n",
    "if(num < 100): num += 1\n",
    "print()\n",
    "print(\"- - - - - - - - - - - - - - - - -\")\n",
    "print(f\"Число попыток 'game_core_floor' = {result1}\")\n",
    "print(f\"Число попыток 'game_core_ceil'  = {result2}\")"
   ]
  }
 ],
 "metadata": {
  "kernelspec": {
   "display_name": "Python 3",
   "language": "python",
   "name": "python3"
  },
  "language_info": {
   "codemirror_mode": {
    "name": "ipython",
    "version": 3
   },
   "file_extension": ".py",
   "mimetype": "text/x-python",
   "name": "python",
   "nbconvert_exporter": "python",
   "pygments_lexer": "ipython3",
   "version": "3.8.8"
  }
 },
 "nbformat": 4,
 "nbformat_minor": 5
}
