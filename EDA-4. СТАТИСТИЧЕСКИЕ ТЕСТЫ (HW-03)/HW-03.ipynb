{
 "cells": [
  {
   "cell_type": "markdown",
   "id": "53435d64",
   "metadata": {},
   "source": [
    "# EDA-4. СТАТИСТИЧЕСКИЕ ТЕСТЫ (HW-03)\n",
    "Используя информацию по мидиям Петербурга и Магадана, проверьте данные на нормальность и на наличие корреляции. Для этого объедините 2 массива в DataFrame. Обоснуйте выбор теста на корреляцию. Сделайте вывод по гипотезе. \n",
    "Также ответьте на вопрос:\n",
    "Какова разница в среднем размере мидии в зависимости от города-производителя. Обоснуйте выбор теста. Сделайте вывод по гипотезе.\n",
    "\n",
    "- [Объедините два массива в DataFrame](#01) \n",
    "- [Обоснуйте выбор теста на корреляцию](#02) \n",
    "- [Сделайте вывод по гипотезе](#03)\n",
    "- [Ответьте на вопрос: Какова разница в среднем размере мидии в зависимости от города-производителя](#04)\n",
    "- [Обоснуйте выбор теста](#05) \n",
    "- [Сделайте вывод по гипотезе](#06)"
   ]
  },
  {
   "cell_type": "markdown",
   "id": "72fdea7f",
   "metadata": {},
   "source": [
    "## Объедините два массива в DataFrame. <a id=\"01\"></a>\n",
    "Объединим массивы в единый датафрейм.    \n",
    "Недостающее значение по Петербургу заполним средним значением"
   ]
  },
  {
   "cell_type": "code",
   "execution_count": 1,
   "id": "d6f1af68",
   "metadata": {},
   "outputs": [
    {
     "data": {
      "text/html": [
       "<div>\n",
       "<style scoped>\n",
       "    .dataframe tbody tr th:only-of-type {\n",
       "        vertical-align: middle;\n",
       "    }\n",
       "\n",
       "    .dataframe tbody tr th {\n",
       "        vertical-align: top;\n",
       "    }\n",
       "\n",
       "    .dataframe thead th {\n",
       "        text-align: right;\n",
       "    }\n",
       "</style>\n",
       "<table border=\"1\" class=\"dataframe\">\n",
       "  <thead>\n",
       "    <tr style=\"text-align: right;\">\n",
       "      <th></th>\n",
       "      <th>peter</th>\n",
       "      <th>magad</th>\n",
       "    </tr>\n",
       "  </thead>\n",
       "  <tbody>\n",
       "    <tr>\n",
       "      <th>0</th>\n",
       "      <td>0.097400</td>\n",
       "      <td>0.1033</td>\n",
       "    </tr>\n",
       "    <tr>\n",
       "      <th>1</th>\n",
       "      <td>0.135200</td>\n",
       "      <td>0.0915</td>\n",
       "    </tr>\n",
       "    <tr>\n",
       "      <th>2</th>\n",
       "      <td>0.081700</td>\n",
       "      <td>0.0781</td>\n",
       "    </tr>\n",
       "    <tr>\n",
       "      <th>3</th>\n",
       "      <td>0.101600</td>\n",
       "      <td>0.0685</td>\n",
       "    </tr>\n",
       "    <tr>\n",
       "      <th>4</th>\n",
       "      <td>0.096800</td>\n",
       "      <td>0.0677</td>\n",
       "    </tr>\n",
       "    <tr>\n",
       "      <th>5</th>\n",
       "      <td>0.106400</td>\n",
       "      <td>0.0697</td>\n",
       "    </tr>\n",
       "    <tr>\n",
       "      <th>6</th>\n",
       "      <td>0.105000</td>\n",
       "      <td>0.0764</td>\n",
       "    </tr>\n",
       "    <tr>\n",
       "      <th>7</th>\n",
       "      <td>0.103443</td>\n",
       "      <td>0.0689</td>\n",
       "    </tr>\n",
       "  </tbody>\n",
       "</table>\n",
       "</div>"
      ],
      "text/plain": [
       "      peter   magad\n",
       "0  0.097400  0.1033\n",
       "1  0.135200  0.0915\n",
       "2  0.081700  0.0781\n",
       "3  0.101600  0.0685\n",
       "4  0.096800  0.0677\n",
       "5  0.106400  0.0697\n",
       "6  0.105000  0.0764\n",
       "7  0.103443  0.0689"
      ]
     },
     "execution_count": 1,
     "metadata": {},
     "output_type": "execute_result"
    }
   ],
   "source": [
    "import pandas as pd\n",
    "import numpy as np\n",
    "\n",
    "petersburg =[0.0974, 0.1352, 0.0817, 0.1016, 0.0968, 0.1064, 0.105]\n",
    "magadan =   [0.1033, 0.0915, 0.0781, 0.0685, 0.0677, 0.0697, 0.0764, 0.0689]\n",
    "\n",
    "z = pd.DataFrame([petersburg,magadan], index= ['peter','magad']).T\n",
    "z.fillna(z.peter.mean(), inplace = True)\n",
    "z"
   ]
  },
  {
   "cell_type": "markdown",
   "id": "7a9e6c9e",
   "metadata": {},
   "source": [
    "## Обоснуйте выбор теста на корреляцию <a id=\"02\"></a>\n",
    "Проверим данные на нормальность, от этого зависит выбор теста <br>\n",
    "Вначале посмотрим на распределение визуально"
   ]
  },
  {
   "cell_type": "code",
   "execution_count": 2,
   "id": "3498e83a",
   "metadata": {
    "scrolled": true
   },
   "outputs": [
    {
     "data": {
      "text/plain": [
       "<AxesSubplot:ylabel='Density'>"
      ]
     },
     "execution_count": 2,
     "metadata": {},
     "output_type": "execute_result"
    },
    {
     "data": {
      "image/png": "[encoded data removed]",
      "text/plain": [
       "<Figure size 432x288 with 1 Axes>"
      ]
     },
     "metadata": {
      "needs_background": "light"
     },
     "output_type": "display_data"
    }
   ],
   "source": [
    "z.plot(kind = 'kde')"
   ]
  },
  {
   "cell_type": "markdown",
   "id": "01c55640",
   "metadata": {},
   "source": [
    "Распределение похоже на нормальное с небольшим хвостом, проведём тест.\n",
    "\n",
    "**Тест Д’Агостино** валиден при количестве примеров более или равно 20,<br>\n",
    "поэтому используем **Тест Шапиро-Уилка**\n",
    "### Тест Шапиро-Уилка на нормальность"
   ]
  },
  {
   "cell_type": "code",
   "execution_count": 3,
   "id": "1c133c4b",
   "metadata": {},
   "outputs": [
    {
     "name": "stdout",
     "output_type": "stream",
     "text": [
      "0.9059994220733643 0.10032352060079575\n",
      "Данные распределены нормально\n"
     ]
    }
   ],
   "source": [
    "from scipy.stats import shapiro\n",
    "H0 = 'Данные распределены нормально'\n",
    "Ha = 'Данные не распределены нормально (мы отвергаем H0)'\n",
    "#Установим уровень значимости\n",
    "alpha = 0.05\n",
    "\n",
    "a, p = shapiro(z)\n",
    "\n",
    "print(a,p)\n",
    "# Интерпретация \n",
    "if p > alpha: print(H0)\n",
    "else: print(Ha)"
   ]
  },
  {
   "cell_type": "markdown",
   "id": "a18fb3f4",
   "metadata": {},
   "source": [
    "Так как данные у нас **непрерывные** и распределённы **нормально**,<br> \n",
    "то можно использовать тест на **корреляцию Пирсона**.    \n",
    "\n",
    "Вначале просто посмотрим на значение корреляции"
   ]
  },
  {
   "cell_type": "code",
   "execution_count": 4,
   "id": "3cf7184d",
   "metadata": {
    "scrolled": true
   },
   "outputs": [
    {
     "data": {
      "text/plain": [
       "0.24455753997284535"
      ]
     },
     "execution_count": 4,
     "metadata": {},
     "output_type": "execute_result"
    }
   ],
   "source": [
    "z.peter.corr(z.magad)"
   ]
  },
  {
   "cell_type": "markdown",
   "id": "20de7a89",
   "metadata": {},
   "source": [
    "Видно, что корреляция слаба и дальнейших тестов проводить смысла нет,    \n",
    "но, как я понял, от меня на курсе ожидают другого.<br>\n",
    "Проведём тест с двумя гипотезами.<br>   \n",
    "Какая гипотеза победит, зависит от установленной мною **alpha** (уровня значимости)     \n",
    "Начну со стандартного значения **0.05** и в случае необходимости подкорректирую.\n",
    "### тест на корреляцию Пирсона"
   ]
  },
  {
   "cell_type": "code",
   "execution_count": 5,
   "id": "bb389809",
   "metadata": {
    "scrolled": true
   },
   "outputs": [
    {
     "name": "stdout",
     "output_type": "stream",
     "text": [
      "корреляция = 0.24455753997284535\n",
      "Two-tailed p-value =  0.5594098062056255\n",
      "сильной корреляции не обнаруженно\n"
     ]
    }
   ],
   "source": [
    "from scipy.stats import pearsonr\n",
    "H0 = 'сильной корреляции не обнаруженно'\n",
    "Ha = 'корреляция значима'\n",
    "#Установим уровень значимости\n",
    "alpha = 0.05\n",
    "\n",
    "a,p = pearsonr(z.peter,z.magad)\n",
    "print('корреляция =', a)\n",
    "print('Two-tailed p-value = ', p)\n",
    "if p/2 > alpha: print(H0)\n",
    "else: print(Ha)"
   ]
  },
  {
   "cell_type": "markdown",
   "id": "7eb43f3d",
   "metadata": {},
   "source": [
    "## Сделайте вывод по гипотезе <a id=\"03\"></a>\n",
    "Сильной корреляции нет.    \n",
    "Что бы сделать вывод, попробуем представить события,    \n",
    "которые могли бы привести к сильной корреляции.\n",
    "- Замеры производились по какому то алгоритму, например, вначале отбирались маленькие мидии, затем большие мидии\n",
    "- После замеров, полученные данные были отсортированны\n",
    "### Вывод\n",
    "- замеряли мидии в произвольном порядке\n",
    "- никто не пытался результаты отсортировать\n",
    "\n",
    "В конце зрительно посмотрим на замеры, вдруг сможем разглядеть какие то закономерности"
   ]
  },
  {
   "cell_type": "code",
   "execution_count": 6,
   "id": "d2c8bb6f",
   "metadata": {
    "scrolled": true
   },
   "outputs": [
    {
     "data": {
      "text/plain": [
       "<AxesSubplot:>"
      ]
     },
     "execution_count": 6,
     "metadata": {},
     "output_type": "execute_result"
    },
    {
     "data": {
      "image/png": "[encoded data removed]",
      "text/plain": [
       "<Figure size 432x288 with 1 Axes>"
      ]
     },
     "metadata": {
      "needs_background": "light"
     },
     "output_type": "display_data"
    }
   ],
   "source": [
    "z.plot(kind = \"bar\")"
   ]
  },
  {
   "cell_type": "markdown",
   "id": "4cac1153",
   "metadata": {},
   "source": [
    "----\n",
    "\n",
    " <a id=\"04\"></a>\n",
    " \n",
    "## Какова разница в среднем размере мидии в зависимости от города-производителя?"
   ]
  },
  {
   "cell_type": "code",
   "execution_count": 7,
   "id": "f7054d69",
   "metadata": {},
   "outputs": [
    {
     "name": "stdout",
     "output_type": "stream",
     "text": [
      "разница в среднем размере мидии,\n",
      "в зависимости от города-производителя =  0.025430357142857143\n"
     ]
    }
   ],
   "source": [
    "a = z.peter.mean() - z.magad.mean()\n",
    "print('разница в среднем размере мидии,')\n",
    "print('в зависимости от города-производителя = ',a)"
   ]
  },
  {
   "cell_type": "markdown",
   "id": "3fdb98a4",
   "metadata": {},
   "source": [
    "## Обоснуйте выбор теста <a id=\"05\"></a>\n",
    "Что бы сравнить средний размер мидий из разных городов, нужно сравнить средний размер мидий из разных городов.    \n",
    "\n",
    "---\n",
    "\n",
    "Но, как я понимаю, простые пути не для нас. <br>\n",
    "Придётся провести тест с выдвижением гипотез, как у серьёзных ребят.\n",
    "\n",
    "---\n",
    "\n",
    "Зависимая переменная *(диаметр пиццы)* является **количественной**. <br>\n",
    "Группы происходят из **разных совокупностей**. <br>\n",
    "Следовательно, мы используем **независимый t-тест**.\n",
    "## Независимый t-тест"
   ]
  },
  {
   "cell_type": "code",
   "execution_count": 8,
   "id": "e3b790bf",
   "metadata": {},
   "outputs": [
    {
     "name": "stdout",
     "output_type": "stream",
     "text": [
      "3.378714614917925 0.004940324868384306\n",
      "Есть значимая разница между диаметрами мидий в разных городах\n"
     ]
    }
   ],
   "source": [
    "from scipy.stats import ttest_ind\n",
    "\n",
    "H0 = 'Нет значимой разницы между диаметрами мидий в разных городах.'\n",
    "Ha = 'Есть значимая разница между диаметрами мидий в разных городах'\n",
    "a,p = ttest_ind( petersburg, magadan, equal_var=True)\n",
    "\n",
    "print(a,p)\n",
    "if p>alpha: print(H0)\n",
    "else:print(Ha) "
   ]
  },
  {
   "cell_type": "markdown",
   "id": "03fa3506",
   "metadata": {},
   "source": [
    "## Сделайте вывод по гипотезе <a id=\"06\"></a>\n",
    "Независимый t-тест показал, что средний размер мидий из разных городов разный <br>\n",
    "К сожалению, тест не ответил на вопрос:<br>  \n",
    "*(Какова разница в среднем размере мидии в зависимости от города-производителя)*."
   ]
  },
  {
   "cell_type": "code",
   "execution_count": null,
   "id": "27e29aec",
   "metadata": {},
   "outputs": [],
   "source": []
  }
 ],
 "metadata": {
  "kernelspec": {
   "display_name": "Python 3",
   "language": "python",
   "name": "python3"
  },
  "language_info": {
   "codemirror_mode": {
    "name": "ipython",
    "version": 3
   },
   "file_extension": ".py",
   "mimetype": "text/x-python",
   "name": "python",
   "nbconvert_exporter": "python",
   "pygments_lexer": "ipython3",
   "version": "3.8.8"
  }
 },
 "nbformat": 4,
 "nbformat_minor": 5
}
